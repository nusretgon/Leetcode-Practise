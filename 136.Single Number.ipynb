{
 "cells": [
  {
   "cell_type": "markdown",
   "id": "18dbfc0f",
   "metadata": {},
   "source": [
    "## 136.Single Number"
   ]
  },
  {
   "cell_type": "code",
   "execution_count": 98,
   "id": "ae1df060",
   "metadata": {},
   "outputs": [],
   "source": [
    "def singleNumber(nums):\n",
    "        \"\"\"\n",
    "        :type nums: List[int]\n",
    "        :rtype: int\n",
    "        \"\"\"\n",
    "        for i in nums:\n",
    "            if nums.count(i)==1:\n",
    "                return i"
   ]
  },
  {
   "cell_type": "code",
   "execution_count": 99,
   "id": "0e82ed82",
   "metadata": {},
   "outputs": [
    {
     "data": {
      "text/plain": [
       "5"
      ]
     },
     "execution_count": 99,
     "metadata": {},
     "output_type": "execute_result"
    }
   ],
   "source": [
    "singleNumber([1,2,2,1,3,3,5])"
   ]
  },
  {
   "cell_type": "code",
   "execution_count": 36,
   "id": "b187151a",
   "metadata": {},
   "outputs": [],
   "source": [
    "def trial(nums):\n",
    "        \"\"\"\n",
    "        :type nums: List[int]\n",
    "        :rtype: int\n",
    "        \"\"\"\n",
    "        for i in nums:\n",
    "            print(\"i:\",i,\"\\n numscount:\",nums.count(i))\n",
    "            if nums.count(i)==1:\n",
    "                return i\n",
    "    \n",
    "        "
   ]
  },
  {
   "cell_type": "code",
   "execution_count": 37,
   "id": "ec9d16a5",
   "metadata": {},
   "outputs": [
    {
     "name": "stdout",
     "output_type": "stream",
     "text": [
      "i: 1 \n",
      " numscount: 2\n",
      "i: 2 \n",
      " numscount: 2\n",
      "i: 2 \n",
      " numscount: 2\n",
      "i: 1 \n",
      " numscount: 2\n",
      "i: 3 \n",
      " numscount: 1\n"
     ]
    },
    {
     "data": {
      "text/plain": [
       "3"
      ]
     },
     "execution_count": 37,
     "metadata": {},
     "output_type": "execute_result"
    }
   ],
   "source": [
    "trial([1,2,2,1,3])"
   ]
  },
  {
   "cell_type": "markdown",
   "id": "7861c8fb",
   "metadata": {},
   "source": [
    "## Second "
   ]
  },
  {
   "cell_type": "code",
   "execution_count": 95,
   "id": "45e1e765",
   "metadata": {},
   "outputs": [],
   "source": [
    "import numpy as np\n",
    "def singleNumber2(nums):\n",
    "        \"\"\"\n",
    "        :type nums: List[int]\n",
    "        :rtype: int\n",
    "        \"\"\"\n",
    "        list1=np.zeros(len(nums))\n",
    "        for i in range(len(nums)):\n",
    "            for j in range(len(nums)):\n",
    "                if nums[i]==nums[j]:\n",
    "                    list1[i]+=1\n",
    "        list1=list1.tolist()\n",
    "        return nums[list1.index(1)]"
   ]
  },
  {
   "cell_type": "code",
   "execution_count": 100,
   "id": "e3e0e9a6",
   "metadata": {},
   "outputs": [
    {
     "data": {
      "text/plain": [
       "3"
      ]
     },
     "execution_count": 100,
     "metadata": {},
     "output_type": "execute_result"
    }
   ],
   "source": [
    "singleNumber2([1,2,2,1,3])"
   ]
  },
  {
   "cell_type": "code",
   "execution_count": 101,
   "id": "c666831d",
   "metadata": {},
   "outputs": [
    {
     "data": {
      "text/plain": [
       "6"
      ]
     },
     "execution_count": 101,
     "metadata": {},
     "output_type": "execute_result"
    }
   ],
   "source": [
    "singleNumber2([1,2,2,1,3,3,6])"
   ]
  },
  {
   "cell_type": "code",
   "execution_count": null,
   "id": "4521cf66",
   "metadata": {},
   "outputs": [],
   "source": []
  }
 ],
 "metadata": {
  "kernelspec": {
   "display_name": "Python 3 (ipykernel)",
   "language": "python",
   "name": "python3"
  },
  "language_info": {
   "codemirror_mode": {
    "name": "ipython",
    "version": 3
   },
   "file_extension": ".py",
   "mimetype": "text/x-python",
   "name": "python",
   "nbconvert_exporter": "python",
   "pygments_lexer": "ipython3",
   "version": "3.9.7"
  }
 },
 "nbformat": 4,
 "nbformat_minor": 5
}
