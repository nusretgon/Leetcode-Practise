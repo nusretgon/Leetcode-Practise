{
 "cells": [
  {
   "cell_type": "code",
   "execution_count": 5,
   "id": "2b9d784c",
   "metadata": {},
   "outputs": [],
   "source": [
    "def twoSum(nums, target):\n",
    "    \"\"\"\n",
    "    :type nums: List[int]\n",
    "    :type target: int\n",
    "    :rtype: List[int]\n",
    "    \"\"\"\n",
    "    newNums=[]\n",
    "    length=len(nums)\n",
    "    for i in range (length-1,0,-1):\n",
    "        for j in range (0,i):\n",
    "            if (nums[i]+nums[j]==target):\n",
    "                newNums.append(i)\n",
    "                newNums.append(j)\n",
    "    newNums=set(newNums)\n",
    "    return newNums\n",
    "        "
   ]
  },
  {
   "cell_type": "code",
   "execution_count": 7,
   "id": "5d3df053",
   "metadata": {},
   "outputs": [
    {
     "data": {
      "text/plain": [
       "{1, 2}"
      ]
     },
     "execution_count": 7,
     "metadata": {},
     "output_type": "execute_result"
    }
   ],
   "source": [
    "list1=[1,5,6,11]\n",
    "target1=11\n",
    "twoSum(list1,target1)"
   ]
  },
  {
   "cell_type": "code",
   "execution_count": 8,
   "id": "db6b7f55",
   "metadata": {},
   "outputs": [
    {
     "data": {
      "text/plain": [
       "{0, 3}"
      ]
     },
     "execution_count": 8,
     "metadata": {},
     "output_type": "execute_result"
    }
   ],
   "source": [
    "list2=[2,5,6,11]\n",
    "target2=13\n",
    "twoSum(list2,target2)"
   ]
  },
  {
   "cell_type": "code",
   "execution_count": 11,
   "id": "2d3214eb",
   "metadata": {},
   "outputs": [
    {
     "data": {
      "text/plain": [
       "{0, 2}"
      ]
     },
     "execution_count": 11,
     "metadata": {},
     "output_type": "execute_result"
    }
   ],
   "source": [
    "list3=[1,5,9,6]\n",
    "target3=10\n",
    "twoSum(list3,target3)"
   ]
  },
  {
   "cell_type": "code",
   "execution_count": null,
   "id": "a34c5d87",
   "metadata": {},
   "outputs": [],
   "source": []
  }
 ],
 "metadata": {
  "kernelspec": {
   "display_name": "Python 3 (ipykernel)",
   "language": "python",
   "name": "python3"
  },
  "language_info": {
   "codemirror_mode": {
    "name": "ipython",
    "version": 3
   },
   "file_extension": ".py",
   "mimetype": "text/x-python",
   "name": "python",
   "nbconvert_exporter": "python",
   "pygments_lexer": "ipython3",
   "version": "3.9.7"
  }
 },
 "nbformat": 4,
 "nbformat_minor": 5
}
