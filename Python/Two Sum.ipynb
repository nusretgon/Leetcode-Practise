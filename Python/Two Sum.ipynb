{
 "cells": [
  {
   "cell_type": "code",
   "execution_count": 3,
   "id": "2b9d784c",
   "metadata": {},
   "outputs": [],
   "source": [
    "\n",
    "def twoSum(self, nums, target):\n",
    "    \"\"\"\n",
    "    :type nums: List[int]\n",
    "    :type target: int\n",
    "    :rtype: List[int]\n",
    "    \"\"\"\n",
    "    newNums=[]\n",
    "    length=len(nums)\n",
    "    for i in range (length-1,0,-1):\n",
    "        for j in range (0,i):\n",
    "            if (nums[i]+nums[j]==target):\n",
    "                newNums.append(i)\n",
    "                newNums.append(j)\n",
    "    newNums=set(newNums)\n",
    "    return newNums\n",
    "        "
   ]
  }
 ],
 "metadata": {
  "kernelspec": {
   "display_name": "Python 3 (ipykernel)",
   "language": "python",
   "name": "python3"
  },
  "language_info": {
   "codemirror_mode": {
    "name": "ipython",
    "version": 3
   },
   "file_extension": ".py",
   "mimetype": "text/x-python",
   "name": "python",
   "nbconvert_exporter": "python",
   "pygments_lexer": "ipython3",
   "version": "3.9.7"
  }
 },
 "nbformat": 4,
 "nbformat_minor": 5
}
