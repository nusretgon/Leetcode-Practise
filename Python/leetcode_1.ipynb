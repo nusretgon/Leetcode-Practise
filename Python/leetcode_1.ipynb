{
 "cells": [
  {
   "cell_type": "markdown",
   "id": "b0cedd11",
   "metadata": {},
   "source": [
    "## plusOne"
   ]
  },
  {
   "cell_type": "code",
   "execution_count": 221,
   "id": "f04d97f8",
   "metadata": {},
   "outputs": [],
   "source": [
    "def plusOne(digits):\n",
    "    leng=len(digits)\n",
    "    for i in range(leng-1,-1,-1):\n",
    "        if (digits[i]<9):\n",
    "            digits[i]+=1\n",
    "            return digits\n",
    "        digits[i]=0\n",
    "    digits.append(0)\n",
    "    digits[0]=1\n",
    "    return digits\n",
    "    \n",
    "    "
   ]
  },
  {
   "cell_type": "code",
   "execution_count": 222,
   "id": "707f071c",
   "metadata": {
    "scrolled": false
   },
   "outputs": [
    {
     "data": {
      "text/plain": [
       "[1]"
      ]
     },
     "execution_count": 222,
     "metadata": {},
     "output_type": "execute_result"
    }
   ],
   "source": [
    "digits=[0]\n",
    "plusOne(digits)"
   ]
  },
  {
   "cell_type": "code",
   "execution_count": 223,
   "id": "df6145e7",
   "metadata": {},
   "outputs": [],
   "source": [
    "numbers=[9,9,9,9,9]\n"
   ]
  },
  {
   "cell_type": "code",
   "execution_count": 224,
   "id": "79abac4c",
   "metadata": {},
   "outputs": [
    {
     "data": {
      "text/plain": [
       "[1, 0, 0, 0, 0, 0]"
      ]
     },
     "execution_count": 224,
     "metadata": {},
     "output_type": "execute_result"
    }
   ],
   "source": [
    "plusOne(numbers)"
   ]
  },
  {
   "cell_type": "markdown",
   "id": "26cf1419",
   "metadata": {},
   "source": [
    "## Length of last word"
   ]
  },
  {
   "cell_type": "code",
   "execution_count": 33,
   "id": "c8e129e7",
   "metadata": {},
   "outputs": [],
   "source": [
    "s=\"Hello World \"\n",
    "a=\"Don Kisotss\""
   ]
  },
  {
   "cell_type": "code",
   "execution_count": 21,
   "id": "01e69e6c",
   "metadata": {},
   "outputs": [],
   "source": [
    "def lengthOfLastWord(s):\n",
    "        \"\"\"\n",
    "        :type s: str\n",
    "        :rtype: int\n",
    "        \"\"\"\n",
    "        s=s.strip()\n",
    "        leng=len(s)\n",
    "        a=0\n",
    "        for i in range(leng-1,-1,-1): \n",
    "            if s[i]!=\" \":\n",
    "                a+=1\n",
    "            else:\n",
    "                return a\n",
    "        return a"
   ]
  },
  {
   "cell_type": "code",
   "execution_count": 34,
   "id": "69cb35fd",
   "metadata": {},
   "outputs": [
    {
     "data": {
      "text/plain": [
       "5"
      ]
     },
     "execution_count": 34,
     "metadata": {},
     "output_type": "execute_result"
    }
   ],
   "source": [
    "lengthOfLastWord(s)"
   ]
  },
  {
   "cell_type": "code",
   "execution_count": 35,
   "id": "488787ce",
   "metadata": {},
   "outputs": [
    {
     "data": {
      "text/plain": [
       "7"
      ]
     },
     "execution_count": 35,
     "metadata": {},
     "output_type": "execute_result"
    }
   ],
   "source": [
    "lengthOfLastWord(a)"
   ]
  },
  {
   "cell_type": "code",
   "execution_count": 31,
   "id": "78cdf2bd",
   "metadata": {},
   "outputs": [],
   "source": [
    "def nameOfLastWord(s):\n",
    "    s=s.strip()\n",
    "    leng=len(s)\n",
    "    a=\"\"\n",
    "    for i in range(leng-1,-1,-1): \n",
    "            if s[i]!=\" \":\n",
    "                a+=s[i]\n",
    "            else:\n",
    "                return a[::-1]\n",
    "    return a[::-1]"
   ]
  },
  {
   "cell_type": "code",
   "execution_count": 32,
   "id": "6f08037c",
   "metadata": {},
   "outputs": [
    {
     "data": {
      "text/plain": [
       "'World'"
      ]
     },
     "execution_count": 32,
     "metadata": {},
     "output_type": "execute_result"
    }
   ],
   "source": [
    "nameOfLastWord(s)"
   ]
  },
  {
   "cell_type": "code",
   "execution_count": 36,
   "id": "5f8022bf",
   "metadata": {},
   "outputs": [
    {
     "data": {
      "text/plain": [
       "'Kisotss'"
      ]
     },
     "execution_count": 36,
     "metadata": {},
     "output_type": "execute_result"
    }
   ],
   "source": [
    "nameOfLastWord(a)"
   ]
  },
  {
   "cell_type": "code",
   "execution_count": null,
   "id": "a0dbc443",
   "metadata": {},
   "outputs": [],
   "source": []
  }
 ],
 "metadata": {
  "kernelspec": {
   "display_name": "Python 3 (ipykernel)",
   "language": "python",
   "name": "python3"
  },
  "language_info": {
   "codemirror_mode": {
    "name": "ipython",
    "version": 3
   },
   "file_extension": ".py",
   "mimetype": "text/x-python",
   "name": "python",
   "nbconvert_exporter": "python",
   "pygments_lexer": "ipython3",
   "version": "3.9.7"
  }
 },
 "nbformat": 4,
 "nbformat_minor": 5
}
