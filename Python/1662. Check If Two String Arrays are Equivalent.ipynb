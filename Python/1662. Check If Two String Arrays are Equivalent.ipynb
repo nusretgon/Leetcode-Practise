{
 "cells": [
  {
   "attachments": {
    "12.PNG": {
     "image/png": "[encoded data removed]"
    }
   },
   "cell_type": "markdown",
   "id": "f957cb64",
   "metadata": {},
   "source": [
    "![12.PNG](attachment:12.PNG)"
   ]
  },
  {
   "cell_type": "code",
   "execution_count": 19,
   "id": "53b35325",
   "metadata": {},
   "outputs": [],
   "source": [
    "def arrayStringsAreEqual(word1, word2):\n",
    "    str1=\"\"\n",
    "    str2=\"\"\n",
    "    for i in word1:\n",
    "        str1+=i\n",
    "    for i in word2:\n",
    "        str2+=i\n",
    "    return str1==str2"
   ]
  },
  {
   "cell_type": "code",
   "execution_count": 20,
   "id": "5b6a52dc",
   "metadata": {},
   "outputs": [
    {
     "data": {
      "text/plain": [
       "False"
      ]
     },
     "execution_count": 20,
     "metadata": {},
     "output_type": "execute_result"
    }
   ],
   "source": [
    "word1 = [\"ab\", \"c\"]\n",
    "word2 = [\"a\", \"bcc\"]\n",
    "arrayStringsAreEqual(word1,word2)"
   ]
  },
  {
   "cell_type": "code",
   "execution_count": 23,
   "id": "73dfd52b",
   "metadata": {},
   "outputs": [
    {
     "data": {
      "text/plain": [
       "True"
      ]
     },
     "execution_count": 23,
     "metadata": {},
     "output_type": "execute_result"
    }
   ],
   "source": [
    "word1 = [\"ab\", \"c\"]\n",
    "word2 = [\"a\", \"bc\"]\n",
    "arrayStringsAreEqual(word1,word2)"
   ]
  },
  {
   "cell_type": "code",
   "execution_count": 21,
   "id": "847f8dc2",
   "metadata": {},
   "outputs": [],
   "source": [
    "def arrayStringsAreEqual(word1, word2):\n",
    "    \"\"\"\n",
    "    str1 = \"\".join(word1)\n",
    "    str2 = \"\".join(word2)\n",
    "    \"\"\"\n",
    "    return \"\".join(word1) == \"\".join(word2)\n"
   ]
  },
  {
   "cell_type": "code",
   "execution_count": 22,
   "id": "b68fbd96",
   "metadata": {},
   "outputs": [
    {
     "data": {
      "text/plain": [
       "False"
      ]
     },
     "execution_count": 22,
     "metadata": {},
     "output_type": "execute_result"
    }
   ],
   "source": [
    "word1 = [\"ab\", \"c\"]\n",
    "word2 = [\"a\", \"bcc\"]\n",
    "arrayStringsAreEqual(word1,word2)"
   ]
  },
  {
   "cell_type": "code",
   "execution_count": 24,
   "id": "b7b42dc3",
   "metadata": {},
   "outputs": [
    {
     "data": {
      "text/plain": [
       "True"
      ]
     },
     "execution_count": 24,
     "metadata": {},
     "output_type": "execute_result"
    }
   ],
   "source": [
    "word1 = [\"ab\", \"c\"]\n",
    "word2 = [\"a\", \"bc\"]\n",
    "arrayStringsAreEqual(word1,word2)"
   ]
  },
  {
   "cell_type": "code",
   "execution_count": null,
   "id": "640a0467",
   "metadata": {},
   "outputs": [],
   "source": []
  }
 ],
 "metadata": {
  "kernelspec": {
   "display_name": "Python 3 (ipykernel)",
   "language": "python",
   "name": "python3"
  },
  "language_info": {
   "codemirror_mode": {
    "name": "ipython",
    "version": 3
   },
   "file_extension": ".py",
   "mimetype": "text/x-python",
   "name": "python",
   "nbconvert_exporter": "python",
   "pygments_lexer": "ipython3",
   "version": "3.9.7"
  }
 },
 "nbformat": 4,
 "nbformat_minor": 5
}
