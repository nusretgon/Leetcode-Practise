{
 "cells": [
  {
   "cell_type": "code",
   "execution_count": 9,
   "id": "a4f6c48c",
   "metadata": {},
   "outputs": [],
   "source": [
    "def isPalindrome(x):\n",
    "    c=len(str(x))-1      # log(x) key point\n",
    "    if(x<0):\n",
    "        return False\n",
    "    else:\n",
    "        num=x\n",
    "        num2=0\n",
    "        while(num>=1):\n",
    "            num2=num2+(10**c)*(num%10)\n",
    "            num=num//10\n",
    "            c-=1\n",
    "        if(x==num2):\n",
    "            return True\n",
    "        else:\n",
    "            return False"
   ]
  },
  {
   "cell_type": "code",
   "execution_count": 12,
   "id": "932afea0",
   "metadata": {},
   "outputs": [
    {
     "data": {
      "text/plain": [
       "True"
      ]
     },
     "execution_count": 12,
     "metadata": {},
     "output_type": "execute_result"
    }
   ],
   "source": [
    "isPalindrome(12121)"
   ]
  },
  {
   "cell_type": "code",
   "execution_count": 14,
   "id": "3ae7cc1a",
   "metadata": {},
   "outputs": [
    {
     "data": {
      "text/plain": [
       "False"
      ]
     },
     "execution_count": 14,
     "metadata": {},
     "output_type": "execute_result"
    }
   ],
   "source": [
    "isPalindrome(121221)"
   ]
  },
  {
   "cell_type": "code",
   "execution_count": 16,
   "id": "57d82939",
   "metadata": {},
   "outputs": [
    {
     "data": {
      "text/plain": [
       "False"
      ]
     },
     "execution_count": 16,
     "metadata": {},
     "output_type": "execute_result"
    }
   ],
   "source": [
    "isPalindrome(121321)"
   ]
  },
  {
   "cell_type": "code",
   "execution_count": null,
   "id": "b881392c",
   "metadata": {},
   "outputs": [],
   "source": [
    "\"\"\"\"\n",
    "class Solution(object):\n",
    "    def isPalindrome(self,x):\n",
    "        c=len(str(x))-1\n",
    "        if(x<0):\n",
    "            return False\n",
    "        else:\n",
    "            num=x\n",
    "            num2=0\n",
    "            while(num>=1):\n",
    "                num2=num2+(10**c)*(num%10)\n",
    "                num=num//10\n",
    "                c-=1\n",
    "            if(x==num2):\n",
    "                return True\n",
    "            else:\n",
    "                return False\n",
    "\"\"\""
   ]
  }
 ],
 "metadata": {
  "kernelspec": {
   "display_name": "Python 3 (ipykernel)",
   "language": "python",
   "name": "python3"
  },
  "language_info": {
   "codemirror_mode": {
    "name": "ipython",
    "version": 3
   },
   "file_extension": ".py",
   "mimetype": "text/x-python",
   "name": "python",
   "nbconvert_exporter": "python",
   "pygments_lexer": "ipython3",
   "version": "3.9.7"
  }
 },
 "nbformat": 4,
 "nbformat_minor": 5
}
