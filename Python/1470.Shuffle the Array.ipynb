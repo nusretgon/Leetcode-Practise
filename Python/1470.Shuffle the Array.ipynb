{
 "cells": [
  {
   "cell_type": "markdown",
   "id": "47fb2205",
   "metadata": {},
   "source": [
    "## 1470. Shuffle the Array"
   ]
  },
  {
   "cell_type": "code",
   "execution_count": 1,
   "id": "8bd6443e",
   "metadata": {},
   "outputs": [],
   "source": [
    "def shuffle(self, nums, n):\n",
    "        \"\"\"\n",
    "        :type nums: List[int]\n",
    "        :type n: int\n",
    "        :rtype: List[int]\n",
    "        \"\"\"\n",
    "    for i in range(0,n*2,2):\n",
    "        nums.insert(i+1,nums.pop(i+n))\n",
    "        n=n-1\n",
    "    return nums"
   ]
  },
  {
   "cell_type": "code",
   "execution_count": 3,
   "id": "6822cf9f",
   "metadata": {},
   "outputs": [
    {
     "data": {
      "text/plain": [
       "[2, 4, 5, 5, 6, 2, 7, 4]"
      ]
     },
     "execution_count": 3,
     "metadata": {},
     "output_type": "execute_result"
    }
   ],
   "source": [
    "shuffle([2,5,6,2,4,7,5,4], 4)"
   ]
  },
  {
   "cell_type": "code",
   "execution_count": 4,
   "id": "d5092ca9",
   "metadata": {},
   "outputs": [
    {
     "data": {
      "text/plain": [
       "[2, 3, 5, 7, 1, 4]"
      ]
     },
     "execution_count": 4,
     "metadata": {},
     "output_type": "execute_result"
    }
   ],
   "source": [
    "shuffle([2,5,1,3,4,7], 3)"
   ]
  },
  {
   "cell_type": "code",
   "execution_count": null,
   "id": "88083078",
   "metadata": {},
   "outputs": [],
   "source": []
  }
 ],
 "metadata": {
  "kernelspec": {
   "display_name": "Python 3 (ipykernel)",
   "language": "python",
   "name": "python3"
  },
  "language_info": {
   "codemirror_mode": {
    "name": "ipython",
    "version": 3
   },
   "file_extension": ".py",
   "mimetype": "text/x-python",
   "name": "python",
   "nbconvert_exporter": "python",
   "pygments_lexer": "ipython3",
   "version": "3.9.7"
  }
 },
 "nbformat": 4,
 "nbformat_minor": 5
}
