{
 "cells": [
  {
   "cell_type": "code",
   "execution_count": 1,
   "id": "c9f914a3",
   "metadata": {},
   "outputs": [],
   "source": [
    "def maximumWealth(accounts):\n",
    "        \"\"\"\n",
    "        :type accounts: List[List[int]]\n",
    "        :rtype: int\n",
    "        \"\"\"\n",
    "        max1=0\n",
    "        for i in accounts:\n",
    "            c=0\n",
    "            for j in i:\n",
    "                c+=j\n",
    "            if c>max1:\n",
    "                max1=c\n",
    "        return max1"
   ]
  },
  {
   "cell_type": "code",
   "execution_count": 2,
   "id": "ad94eccd",
   "metadata": {},
   "outputs": [
    {
     "data": {
      "text/plain": [
       "6"
      ]
     },
     "execution_count": 2,
     "metadata": {},
     "output_type": "execute_result"
    }
   ],
   "source": [
    "maximumWealth([[1,2,3],[1,2,3]])"
   ]
  },
  {
   "cell_type": "code",
   "execution_count": 3,
   "id": "8b164da8",
   "metadata": {},
   "outputs": [
    {
     "data": {
      "text/plain": [
       "10"
      ]
     },
     "execution_count": 3,
     "metadata": {},
     "output_type": "execute_result"
    }
   ],
   "source": [
    "maximumWealth([[1,2,3],[1,2,3,4]])"
   ]
  },
  {
   "cell_type": "code",
   "execution_count": 5,
   "id": "05835748",
   "metadata": {},
   "outputs": [
    {
     "data": {
      "text/plain": [
       "15"
      ]
     },
     "execution_count": 5,
     "metadata": {},
     "output_type": "execute_result"
    }
   ],
   "source": [
    "maximumWealth([[1,2,3,4,5],[1,2,3,4]])"
   ]
  },
  {
   "cell_type": "code",
   "execution_count": null,
   "id": "ddfc3279",
   "metadata": {},
   "outputs": [],
   "source": []
  }
 ],
 "metadata": {
  "kernelspec": {
   "display_name": "Python 3 (ipykernel)",
   "language": "python",
   "name": "python3"
  },
  "language_info": {
   "codemirror_mode": {
    "name": "ipython",
    "version": 3
   },
   "file_extension": ".py",
   "mimetype": "text/x-python",
   "name": "python",
   "nbconvert_exporter": "python",
   "pygments_lexer": "ipython3",
   "version": "3.9.7"
  }
 },
 "nbformat": 4,
 "nbformat_minor": 5
}
