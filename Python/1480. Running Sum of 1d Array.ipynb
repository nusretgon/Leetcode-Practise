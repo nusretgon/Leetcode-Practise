{
 "cells": [
  {
   "cell_type": "markdown",
   "id": "523c3439",
   "metadata": {},
   "source": [
    "## 1480. Running Sum of 1d Array"
   ]
  },
  {
   "cell_type": "code",
   "execution_count": 41,
   "id": "df0d4cd6",
   "metadata": {},
   "outputs": [],
   "source": [
    "def runningSum(nums):\n",
    "        \"\"\"\n",
    "        :type nums: List[int]\n",
    "        :rtype: List[int]\n",
    "        \"\"\"\n",
    "        count=nums[0]\n",
    "        for i in range(1,len(nums)-1):\n",
    "            for j in range(i,i+1):\n",
    "                count=nums[i]+nums[j]\n",
    "                nums[i]=count\n",
    "        return nums       "
   ]
  },
  {
   "cell_type": "code",
   "execution_count": 42,
   "id": "35db9544",
   "metadata": {},
   "outputs": [
    {
     "data": {
      "text/plain": [
       "[1, 4, 6, 4]"
      ]
     },
     "execution_count": 42,
     "metadata": {},
     "output_type": "execute_result"
    }
   ],
   "source": [
    "runningSum([1,2,3,4])"
   ]
  },
  {
   "cell_type": "code",
   "execution_count": 54,
   "id": "cde7ec80",
   "metadata": {},
   "outputs": [],
   "source": [
    "nums=[1,2,3,4]\n",
    "count=nums[0]"
   ]
  },
  {
   "cell_type": "code",
   "execution_count": 55,
   "id": "a184cfda",
   "metadata": {},
   "outputs": [],
   "source": [
    "for i in range(1,len(nums)):\n",
    "    count+=nums[i]\n",
    "    nums[i]=count"
   ]
  },
  {
   "cell_type": "code",
   "execution_count": 56,
   "id": "a45ec505",
   "metadata": {},
   "outputs": [
    {
     "data": {
      "text/plain": [
       "[1, 3, 6, 10]"
      ]
     },
     "execution_count": 56,
     "metadata": {},
     "output_type": "execute_result"
    }
   ],
   "source": [
    "nums"
   ]
  },
  {
   "cell_type": "code",
   "execution_count": null,
   "id": "b72578a5",
   "metadata": {},
   "outputs": [],
   "source": []
  }
 ],
 "metadata": {
  "kernelspec": {
   "display_name": "Python 3 (ipykernel)",
   "language": "python",
   "name": "python3"
  },
  "language_info": {
   "codemirror_mode": {
    "name": "ipython",
    "version": 3
   },
   "file_extension": ".py",
   "mimetype": "text/x-python",
   "name": "python",
   "nbconvert_exporter": "python",
   "pygments_lexer": "ipython3",
   "version": "3.9.7"
  }
 },
 "nbformat": 4,
 "nbformat_minor": 5
}
