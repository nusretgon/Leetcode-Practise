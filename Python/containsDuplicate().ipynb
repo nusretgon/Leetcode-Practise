{
 "cells": [
  {
   "cell_type": "code",
   "execution_count": 73,
   "id": "a10931a1",
   "metadata": {},
   "outputs": [],
   "source": [
    "nums1=[2,14,18,22,22]\n",
    "nums=[1,1,1,2,3,4,2]"
   ]
  },
  {
   "cell_type": "code",
   "execution_count": 69,
   "id": "4545493a",
   "metadata": {},
   "outputs": [],
   "source": [
    "def containsDuplicate(nums):\n",
    "    boole=False\n",
    "    for i in nums:\n",
    "        if nums.count(i)>1:\n",
    "            boole=True\n",
    "            return boole\n",
    "    return boole"
   ]
  },
  {
   "cell_type": "code",
   "execution_count": 75,
   "id": "bcc6c54b",
   "metadata": {},
   "outputs": [
    {
     "name": "stdout",
     "output_type": "stream",
     "text": [
      "True\n",
      "True\n"
     ]
    }
   ],
   "source": [
    "print(containsDuplicate(nums1))\n",
    "print(containsDuplicate(nums))"
   ]
  },
  {
   "cell_type": "code",
   "execution_count": 71,
   "id": "7d7c6be2",
   "metadata": {},
   "outputs": [],
   "source": [
    "def containsDuplicate1(nums):\n",
    "    return len(nums)!=len(set(nums))"
   ]
  },
  {
   "cell_type": "code",
   "execution_count": 76,
   "id": "2eadc365",
   "metadata": {},
   "outputs": [
    {
     "name": "stdout",
     "output_type": "stream",
     "text": [
      "True\n",
      "True\n"
     ]
    }
   ],
   "source": [
    "print(containsDuplicate(nums1))\n",
    "print(containsDuplicate(nums))"
   ]
  },
  {
   "cell_type": "markdown",
   "id": "7377f3d6",
   "metadata": {},
   "source": []
  },
  {
   "cell_type": "code",
   "execution_count": 77,
   "id": "c999e399",
   "metadata": {},
   "outputs": [],
   "source": [
    "a=45"
   ]
  },
  {
   "cell_type": "code",
   "execution_count": 79,
   "id": "ab29869a",
   "metadata": {},
   "outputs": [
    {
     "name": "stdout",
     "output_type": "stream",
     "text": [
      "a\n",
      "b\n"
     ]
    }
   ],
   "source": [
    "if a>40:\n",
    "    print(\"a\")\n",
    "if a<60:\n",
    "    print(\"b\")"
   ]
  },
  {
   "cell_type": "code",
   "execution_count": null,
   "id": "8f8d8a63",
   "metadata": {},
   "outputs": [],
   "source": []
  }
 ],
 "metadata": {
  "kernelspec": {
   "display_name": "Python 3 (ipykernel)",
   "language": "python",
   "name": "python3"
  },
  "language_info": {
   "codemirror_mode": {
    "name": "ipython",
    "version": 3
   },
   "file_extension": ".py",
   "mimetype": "text/x-python",
   "name": "python",
   "nbconvert_exporter": "python",
   "pygments_lexer": "ipython3",
   "version": "3.9.7"
  }
 },
 "nbformat": 4,
 "nbformat_minor": 5
}
