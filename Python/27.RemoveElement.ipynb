{
 "cells": [
  {
   "cell_type": "code",
   "execution_count": 23,
   "id": "c47557cf",
   "metadata": {},
   "outputs": [],
   "source": [
    "def removeElement(nums, val):        \n",
    "    for i in range(0,nums.count(val)):\n",
    "        nums.remove(val)\n",
    "    print(len(nums))\n",
    "    return nums"
   ]
  },
  {
   "cell_type": "code",
   "execution_count": 24,
   "id": "4e2f109f",
   "metadata": {},
   "outputs": [],
   "source": [
    "nums=[0,1,2,2,3,0,4,2]\n",
    "val=2"
   ]
  },
  {
   "cell_type": "code",
   "execution_count": 25,
   "id": "f527cea8",
   "metadata": {},
   "outputs": [
    {
     "name": "stdout",
     "output_type": "stream",
     "text": [
      "5\n"
     ]
    },
    {
     "data": {
      "text/plain": [
       "[0, 1, 3, 0, 4]"
      ]
     },
     "execution_count": 25,
     "metadata": {},
     "output_type": "execute_result"
    }
   ],
   "source": [
    "removeElement(nums,val)"
   ]
  },
  {
   "cell_type": "code",
   "execution_count": 27,
   "id": "78378fef",
   "metadata": {},
   "outputs": [],
   "source": [
    "nums=[3,3,3,3,3,3,4,3,3,3,3,3]\n",
    "val=3"
   ]
  },
  {
   "cell_type": "code",
   "execution_count": 28,
   "id": "db0b3d41",
   "metadata": {},
   "outputs": [
    {
     "name": "stdout",
     "output_type": "stream",
     "text": [
      "1\n"
     ]
    },
    {
     "data": {
      "text/plain": [
       "[4]"
      ]
     },
     "execution_count": 28,
     "metadata": {},
     "output_type": "execute_result"
    }
   ],
   "source": [
    "removeElement(nums,val)"
   ]
  }
 ],
 "metadata": {
  "kernelspec": {
   "display_name": "Python 3 (ipykernel)",
   "language": "python",
   "name": "python3"
  },
  "language_info": {
   "codemirror_mode": {
    "name": "ipython",
    "version": 3
   },
   "file_extension": ".py",
   "mimetype": "text/x-python",
   "name": "python",
   "nbconvert_exporter": "python",
   "pygments_lexer": "ipython3",
   "version": "3.9.7"
  }
 },
 "nbformat": 4,
 "nbformat_minor": 5
}
