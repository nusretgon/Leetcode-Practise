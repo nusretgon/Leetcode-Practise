{
 "cells": [
  {
   "cell_type": "markdown",
   "id": "a7224373",
   "metadata": {},
   "source": [
    "## 67.addBinary"
   ]
  },
  {
   "cell_type": "code",
   "execution_count": 44,
   "id": "0f59f754",
   "metadata": {},
   "outputs": [],
   "source": [
    "def addBinary(a, b):\n",
    "        \"\"\"\n",
    "        :type a: str\n",
    "        :type b: str\n",
    "        :rtype: str\n",
    "        \"\"\"\n",
    "        leng=len(a)\n",
    "        total=0\n",
    "        count=0\n",
    "        i=0\n",
    "        if leng<len(b):\n",
    "            leng=len(b)\n",
    "        a=int(a)\n",
    "        b=int(b)\n",
    "        while i<leng or count==1:\n",
    "            total+=(((a+b+count)%10)%2)*(10**i)\n",
    "            count=((a+b+count)%10)//2\n",
    "            i=i+1\n",
    "            a=a//10\n",
    "            b=b//10\n",
    "        total=str(total)\n",
    "        return total\n",
    "            "
   ]
  },
  {
   "cell_type": "code",
   "execution_count": 42,
   "id": "89e98e78",
   "metadata": {},
   "outputs": [
    {
     "data": {
      "text/plain": [
       "'10010'"
      ]
     },
     "execution_count": 42,
     "metadata": {},
     "output_type": "execute_result"
    }
   ],
   "source": [
    "addBinary(\"1111\",\"11\")"
   ]
  },
  {
   "cell_type": "code",
   "execution_count": 45,
   "id": "57024b1a",
   "metadata": {},
   "outputs": [
    {
     "data": {
      "text/plain": [
       "'110'"
      ]
     },
     "execution_count": 45,
     "metadata": {},
     "output_type": "execute_result"
    }
   ],
   "source": [
    "addBinary(\"11\",\"11\")"
   ]
  },
  {
   "cell_type": "code",
   "execution_count": 46,
   "id": "9bda33f9",
   "metadata": {},
   "outputs": [
    {
     "data": {
      "text/plain": [
       "'11000'"
      ]
     },
     "execution_count": 46,
     "metadata": {},
     "output_type": "execute_result"
    }
   ],
   "source": [
    "addBinary(\"10101\",\"11\")"
   ]
  },
  {
   "cell_type": "code",
   "execution_count": null,
   "id": "f32a1888",
   "metadata": {},
   "outputs": [],
   "source": []
  }
 ],
 "metadata": {
  "kernelspec": {
   "display_name": "Python 3 (ipykernel)",
   "language": "python",
   "name": "python3"
  },
  "language_info": {
   "codemirror_mode": {
    "name": "ipython",
    "version": 3
   },
   "file_extension": ".py",
   "mimetype": "text/x-python",
   "name": "python",
   "nbconvert_exporter": "python",
   "pygments_lexer": "ipython3",
   "version": "3.9.7"
  }
 },
 "nbformat": 4,
 "nbformat_minor": 5
}
