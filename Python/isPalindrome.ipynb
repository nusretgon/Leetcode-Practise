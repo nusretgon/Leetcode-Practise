{
 "cells": [
  {
   "cell_type": "code",
   "execution_count": 29,
   "id": "6a437614",
   "metadata": {},
   "outputs": [],
   "source": [
    "import math\n",
    "def isPalindrome(x):\n",
    "        if(x<0):\n",
    "            return False\n",
    "        else:\n",
    "            num=x\n",
    "            counter=math.floor(math.log10(num))\n",
    "            num2=0\n",
    "            while(num>=1):\n",
    "                num2=num2+(10**counter)*(num%10)\n",
    "                num=math.floor(num/10)\n",
    "                counter-=1\n",
    "        if (x==num2):\n",
    "            return True\n",
    "        else:\n",
    "            return False"
   ]
  },
  {
   "cell_type": "code",
   "execution_count": 30,
   "id": "95ff7e34",
   "metadata": {},
   "outputs": [
    {
     "data": {
      "text/plain": [
       "True"
      ]
     },
     "execution_count": 30,
     "metadata": {},
     "output_type": "execute_result"
    }
   ],
   "source": [
    "isPalindrome(121)"
   ]
  },
  {
   "cell_type": "code",
   "execution_count": 31,
   "id": "f6bfd52d",
   "metadata": {},
   "outputs": [
    {
     "data": {
      "text/plain": [
       "False"
      ]
     },
     "execution_count": 31,
     "metadata": {},
     "output_type": "execute_result"
    }
   ],
   "source": [
    "isPalindrome(-232)"
   ]
  },
  {
   "cell_type": "code",
   "execution_count": 32,
   "id": "bb179da8",
   "metadata": {},
   "outputs": [
    {
     "data": {
      "text/plain": [
       "False"
      ]
     },
     "execution_count": 32,
     "metadata": {},
     "output_type": "execute_result"
    }
   ],
   "source": [
    "isPalindrome(12)"
   ]
  }
 ],
 "metadata": {
  "kernelspec": {
   "display_name": "Python 3 (ipykernel)",
   "language": "python",
   "name": "python3"
  },
  "language_info": {
   "codemirror_mode": {
    "name": "ipython",
    "version": 3
   },
   "file_extension": ".py",
   "mimetype": "text/x-python",
   "name": "python",
   "nbconvert_exporter": "python",
   "pygments_lexer": "ipython3",
   "version": "3.9.7"
  }
 },
 "nbformat": 4,
 "nbformat_minor": 5
}
